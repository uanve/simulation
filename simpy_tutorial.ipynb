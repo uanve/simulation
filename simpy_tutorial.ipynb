{
 "cells": [
  {
   "cell_type": "markdown",
   "id": "60dd7360",
   "metadata": {},
   "source": [
    "## Simpy tutorial"
   ]
  },
  {
   "cell_type": "markdown",
   "id": "0469face",
   "metadata": {},
   "source": [
    "### Car"
   ]
  },
  {
   "cell_type": "markdown",
   "id": "631e8184",
   "metadata": {},
   "source": [
    "#### 1 process"
   ]
  },
  {
   "cell_type": "markdown",
   "id": "eeaa34bc",
   "metadata": {},
   "source": [
    "- function car is a generator\n",
    "- It has two stages: parking and driving\n",
    "- a timeout event describes the end of an event"
   ]
  },
  {
   "cell_type": "code",
   "execution_count": 3,
   "id": "2bf209b1",
   "metadata": {},
   "outputs": [],
   "source": [
    "import simpy"
   ]
  },
  {
   "cell_type": "code",
   "execution_count": 4,
   "id": "e9a7c2c0",
   "metadata": {},
   "outputs": [],
   "source": [
    "def car(env):\n",
    "    while True:\n",
    "        print('Start parking at %d' % env.now)\n",
    "        parking_duration = 5\n",
    "        yield env.timeout(parking_duration)\n",
    "\n",
    "        print('Start driving at %d' % env.now)\n",
    "        trip_duration = 2\n",
    "        yield env.timeout(trip_duration)"
   ]
  },
  {
   "cell_type": "code",
   "execution_count": 8,
   "id": "c3f92e36",
   "metadata": {},
   "outputs": [
    {
     "name": "stdout",
     "output_type": "stream",
     "text": [
      "Start parking at 0\n",
      "Start driving at 5\n",
      "Start parking at 7\n",
      "Start driving at 12\n",
      "Start parking at 14\n"
     ]
    }
   ],
   "source": [
    "\n",
    "env = simpy.Environment()\n",
    "env.process(car(env))\n",
    "\n",
    "env.run(until=15)"
   ]
  },
  {
   "cell_type": "markdown",
   "id": "581dcba2",
   "metadata": {},
   "source": [
    "- env: *Environment*\n",
    "- car(env): *Generator function*\n",
    "- env.process(car(env)): *Process object*\n",
    "- env.run(until=15): *Runs process for 15s*"
   ]
  },
  {
   "cell_type": "markdown",
   "id": "a006d17b",
   "metadata": {},
   "source": [
    "#### waiting for a process"
   ]
  },
  {
   "cell_type": "code",
   "execution_count": 19,
   "id": "26436cb7",
   "metadata": {},
   "outputs": [],
   "source": [
    "class Car(object):\n",
    "    def __init__(self, env):\n",
    "        self.env = env\n",
    "        # Start the run process everytime an instance is created.\n",
    "        self.action = env.process(self.run())\n",
    "        \n",
    "    def run(self):\n",
    "        while True:\n",
    "            print('Start parking and charging at %d' % self.env.now)\n",
    "            charge_duration = 5\n",
    "            # We yield the process that process() returns\n",
    "            # to wait for it to finish\n",
    "            yield self.env.process(self.charge(charge_duration))\n",
    "            \n",
    "            # The charge process has finished\n",
    "            print('charging finished at {:.0f}'.format(self.env.now))\n",
    "            restart_duration = 1\n",
    "            yield self.env.timeout(restart_duration)\n",
    "            \n",
    "            # The driving can start\n",
    "            print('Start driving at %d' % self.env.now + '\\n')\n",
    "            trip_duration = 2\n",
    "            yield self.env.timeout(trip_duration)\n",
    "            \n",
    "    def charge(self, duration):\n",
    "        yield self.env.timeout(duration)"
   ]
  },
  {
   "cell_type": "code",
   "execution_count": 38,
   "id": "83da742b",
   "metadata": {},
   "outputs": [
    {
     "name": "stdout",
     "output_type": "stream",
     "text": [
      "Start parking and charging at 0\n",
      "charging finished at 5\n",
      "Start driving at 6\n",
      "\n",
      "Start parking and charging at 8\n",
      "charging finished at 13\n",
      "Start driving at 14\n",
      "\n"
     ]
    }
   ],
   "source": [
    "env = simpy.Environment()\n",
    "car = Car(env)\n",
    "env.run(until=15)"
   ]
  },
  {
   "cell_type": "markdown",
   "id": "0b21e676",
   "metadata": {},
   "source": [
    "- self.charge is a process (charging)\n",
    "- run has three stages: charge, charge finished, driving"
   ]
  },
  {
   "cell_type": "markdown",
   "id": "798ea344",
   "metadata": {},
   "source": [
    "#### Interrupt a process"
   ]
  },
  {
   "cell_type": "code",
   "execution_count": 60,
   "id": "a742889f",
   "metadata": {},
   "outputs": [],
   "source": [
    "class Car(object):\n",
    "    def __init__(self, env):\n",
    "        self.env = env\n",
    "        # Start the run process everytime an instance is created.\n",
    "        self.action = env.process(self.run())\n",
    "        \n",
    "    def run(self):\n",
    "        while True:\n",
    "            print('Start parking and charging at %d' % self.env.now)\n",
    "            charge_duration = 5\n",
    "            # We yield the process that process() returns\n",
    "            # to wait for it to finish\n",
    "            \n",
    "            try:\n",
    "                yield self.env.process(self.charge(charge_duration))\n",
    "            except simpy.Interrupt:\n",
    "                print('Was interrupted at {:.0f}. Hope, the battery is full enough ...'.format(env.now))\n",
    "            \n",
    "            # The charge process has finished\n",
    "            print('charging finished at {:.0f}'.format(self.env.now))\n",
    "            restart_duration = 1\n",
    "            yield self.env.timeout(restart_duration)\n",
    "            \n",
    "            # The driving can start\n",
    "            print('Start driving at %d' % self.env.now + '\\n')\n",
    "            trip_duration = 2\n",
    "            yield self.env.timeout(trip_duration)\n",
    "            \n",
    "    def charge(self, duration):\n",
    "        yield self.env.timeout(duration)"
   ]
  },
  {
   "cell_type": "code",
   "execution_count": 63,
   "id": "ebea59f1",
   "metadata": {},
   "outputs": [],
   "source": [
    "def driver(env, car):\n",
    "    while env.now <1:\n",
    "        yield env.timeout(3)\n",
    "        car.action.interrupt()"
   ]
  },
  {
   "cell_type": "code",
   "execution_count": 64,
   "id": "d9b59965",
   "metadata": {},
   "outputs": [
    {
     "name": "stdout",
     "output_type": "stream",
     "text": [
      "Start parking and charging at 0\n",
      "Was interrupted at 3. Hope, the battery is full enough ...\n",
      "charging finished at 3\n",
      "Start driving at 4\n",
      "\n",
      "Start parking and charging at 6\n",
      "charging finished at 11\n",
      "Start driving at 12\n",
      "\n",
      "Start parking and charging at 14\n"
     ]
    }
   ],
   "source": [
    "env = simpy.Environment()\n",
    "car = Car(env)\n",
    "env.process(driver(env, car))\n",
    "env.run(until=15)"
   ]
  },
  {
   "cell_type": "markdown",
   "id": "2b88ca67",
   "metadata": {},
   "source": [
    "#### shared resource"
   ]
  },
  {
   "cell_type": "code",
   "execution_count": 69,
   "id": "8494d051",
   "metadata": {},
   "outputs": [],
   "source": [
    "def car(env, name, bcs, driving_time, charge_duration):\n",
    "    # Simulate driving to Charging Station\n",
    "    yield env.timeout(driving_time)\n",
    "    \n",
    "    # Request one of it's charging stations\n",
    "    print('car {} is arriving at {:.0f}'.format(name, env.now))\n",
    "    with bcs.request() as req:\n",
    "        yield req\n",
    "        \n",
    "        # Charge the battery\n",
    "        print('starting to charge car {} at {}'.format(name, env.now))\n",
    "        yield env.timeout(charge_duration)\n",
    "        print('car {} finished charging at {}'.format(name, env.now))\n",
    "    "
   ]
  },
  {
   "cell_type": "code",
   "execution_count": 72,
   "id": "461192b3",
   "metadata": {},
   "outputs": [
    {
     "name": "stdout",
     "output_type": "stream",
     "text": [
      "car 01 is arriving at 2\n",
      "car 02 is arriving at 2\n",
      "car 03 is arriving at 2\n",
      "car 04 is arriving at 2\n",
      "starting to charge car 01 at 2\n",
      "starting to charge car 02 at 2\n",
      "car 01 finished charging at 7\n",
      "car 02 finished charging at 7\n",
      "starting to charge car 03 at 7\n",
      "starting to charge car 04 at 7\n",
      "car 03 finished charging at 12\n",
      "car 04 finished charging at 12\n"
     ]
    }
   ],
   "source": [
    "env = simpy.Environment()\n",
    "bcs = simpy.Resource(env, capacity=2)\n",
    "env.process(car(env, \"01\", bcs, 2, 5))\n",
    "env.process(car(env, \"02\", bcs, 2, 5))\n",
    "env.process(car(env, \"03\", bcs, 2, 5))\n",
    "env.process(car(env, \"04\", bcs, 2, 5))\n",
    "env.run(until=15)"
   ]
  },
  {
   "cell_type": "code",
   "execution_count": null,
   "id": "fd7d3266",
   "metadata": {},
   "outputs": [],
   "source": []
  }
 ],
 "metadata": {
  "kernelspec": {
   "display_name": "Python 3 (ipykernel)",
   "language": "python",
   "name": "python3"
  },
  "language_info": {
   "codemirror_mode": {
    "name": "ipython",
    "version": 3
   },
   "file_extension": ".py",
   "mimetype": "text/x-python",
   "name": "python",
   "nbconvert_exporter": "python",
   "pygments_lexer": "ipython3",
   "version": "3.9.7"
  }
 },
 "nbformat": 4,
 "nbformat_minor": 5
}
