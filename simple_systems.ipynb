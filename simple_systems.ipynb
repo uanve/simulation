{
 "cells": [
  {
   "cell_type": "code",
   "execution_count": 1,
   "id": "76a8c847",
   "metadata": {},
   "outputs": [],
   "source": [
    "import simpy\n",
    "import itertools\n",
    "import numpy as np\n",
    "import matplotlib.pyplot as plt"
   ]
  },
  {
   "cell_type": "markdown",
   "id": "2adec216",
   "metadata": {},
   "source": [
    "## SINGLE-SERVER QUEUEING SYSTEM"
   ]
  },
  {
   "cell_type": "markdown",
   "id": "2fce2d91",
   "metadata": {},
   "source": [
    "Processes\n",
    "- arrival \n",
    "- service"
   ]
  },
  {
   "cell_type": "markdown",
   "id": "706f337e",
   "metadata": {},
   "source": [
    "#### Generating all cars"
   ]
  },
  {
   "cell_type": "code",
   "execution_count": 2,
   "id": "90671ede",
   "metadata": {},
   "outputs": [],
   "source": [
    "def car(env, name, bcs, driving_time, charge_duration):\n",
    "    # Simulate driving to Charging Station\n",
    "    yield env.timeout(driving_time)\n",
    "    \n",
    "    # Request one of it's charging stations\n",
    "    print('car {} is arriving at {:.0f}'.format(name, env.now))\n",
    "    with bcs.request() as req:\n",
    "        yield req\n",
    "        \n",
    "        # Charge the battery\n",
    "        print('starting to charge Car {} at {}'.format(name, env.now))\n",
    "        yield env.timeout(charge_duration)\n",
    "        print('Car {} finished charging at {}'.format(name, env.now))\n",
    "    "
   ]
  },
  {
   "cell_type": "code",
   "execution_count": 3,
   "id": "5508a3f8",
   "metadata": {},
   "outputs": [
    {
     "name": "stdout",
     "output_type": "stream",
     "text": [
      "car 1 is arriving at 1\n",
      "starting to charge Car 1 at 1\n",
      "car 2 is arriving at 2\n",
      "starting to charge Car 2 at 2\n",
      "car 3 is arriving at 3\n",
      "car 4 is arriving at 4\n",
      "Car 1 finished charging at 6\n",
      "starting to charge Car 3 at 6\n",
      "Car 2 finished charging at 7\n",
      "starting to charge Car 4 at 7\n",
      "Car 3 finished charging at 11\n",
      "Car 4 finished charging at 12\n"
     ]
    }
   ],
   "source": [
    "env = simpy.Environment()\n",
    "bcs = simpy.Resource(env, capacity=2)\n",
    "env.process(car(env, \"1\", bcs, 1, 5))\n",
    "env.process(car(env, \"2\", bcs, 2, 5))\n",
    "env.process(car(env, \"3\", bcs, 3, 5))\n",
    "env.process(car(env, \"4\", bcs, 4, 5))\n",
    "env.run(until=60)"
   ]
  },
  {
   "cell_type": "markdown",
   "id": "2141faf2",
   "metadata": {},
   "source": [
    "#### with car generator"
   ]
  },
  {
   "cell_type": "code",
   "execution_count": 4,
   "id": "86108a79",
   "metadata": {},
   "outputs": [],
   "source": [
    "sim_time = 100\n",
    "servers = 4\n",
    "\n",
    "arrival_rate = 20 #arrivals/hour \n",
    "service_rate = 5 #service/hour "
   ]
  },
  {
   "cell_type": "code",
   "execution_count": 5,
   "id": "5beca1a4",
   "metadata": {},
   "outputs": [],
   "source": [
    "arrival_times = []\n",
    "start_service_times = []\n",
    "finish_service_times = []"
   ]
  },
  {
   "cell_type": "code",
   "execution_count": 6,
   "id": "52ee6c3c",
   "metadata": {},
   "outputs": [],
   "source": [
    "def car(env, name, queue, charge_duration):\n",
    "    arrival_time = env.now\n",
    "    arrival_times.append(arrival_time)\n",
    "#     print('{} is arriving at {:.2f}'.format(name, env.now))\n",
    "    with queue.request() as req:\n",
    "        yield req\n",
    "        \n",
    "        # Start serving\n",
    "        waiting_time = env.now - arrival_time\n",
    "#         print('starting to serve {} at {:.2f}'.format(name, env.now))\n",
    "        start_service_times.append(env.now)\n",
    "\n",
    "        # Finish serving\n",
    "        yield env.timeout(np.random.exponential(charge_duration))\n",
    "#         print('{} finished serving at {:.2f}'.format(name, env.now))\n",
    "        finish_service_times.append(env.now)# - waiting_time - arrival_time)\n",
    "    "
   ]
  },
  {
   "cell_type": "code",
   "execution_count": 7,
   "id": "8b79d947",
   "metadata": {},
   "outputs": [],
   "source": [
    "def car_generator(env, queue):\n",
    "    interarrival_time = 60/arrival_rate\n",
    "    charge_duration = 60/service_rate\n",
    "    \"\"\"Generate new cars that arrive at the gas station.\"\"\"\n",
    "    for i in itertools.count():\n",
    "#     for i in range(1,5):\n",
    "        yield env.timeout(np.random.exponential(interarrival_time))\n",
    "        \n",
    "        env.process(car(env, 'Car %d' % i, queue, charge_duration ))\n",
    "    return i"
   ]
  },
  {
   "cell_type": "code",
   "execution_count": 8,
   "id": "bfca6d39",
   "metadata": {},
   "outputs": [],
   "source": [
    "env = simpy.Environment()\n",
    "queue = simpy.Resource(env, capacity=servers)\n",
    "proc = env.process(car_generator(env, queue))\n",
    "env.run(until=sim_time)"
   ]
  },
  {
   "cell_type": "code",
   "execution_count": 9,
   "id": "1154363f",
   "metadata": {},
   "outputs": [],
   "source": [
    "def acum(l):\n",
    "#     t = np.arange(0,sim_time,0.01)\n",
    "    Acum = np.zeros(sim_time*100)\n",
    "    for e in l:\n",
    "        idx = int(e*100)\n",
    "        Acum[idx:]+=1\n",
    "#     plt.plot(t,l)\n",
    "#     plt.show()\n",
    "    return Acum"
   ]
  },
  {
   "cell_type": "code",
   "execution_count": 52,
   "id": "534192ce",
   "metadata": {},
   "outputs": [
    {
     "data": {
      "image/png": "[encoded data removed]",
      "text/plain": [
       "<Figure size 432x288 with 1 Axes>"
      ]
     },
     "metadata": {
      "needs_background": "light"
     },
     "output_type": "display_data"
    }
   ],
   "source": [
    "t = np.arange(0,sim_time,0.01)\n",
    "plt.plot(t,acum(arrival_times), label=\"arrivals\")\n",
    "plt.plot(t,acum(start_service_times), label=\"start service\")\n",
    "plt.plot(t,acum(finish_service_times), label=\"finish service\")\n",
    "# plt.plot(t,acum(waiting_times))\n",
    "plt.legend()\n",
    "plt.show()"
   ]
  },
  {
   "cell_type": "markdown",
   "id": "1ead5224",
   "metadata": {},
   "source": [
    "## SIMULATION OF AN INVENTORY SYSTEM"
   ]
  },
  {
   "cell_type": "markdown",
   "id": "83fb16dd",
   "metadata": {},
   "source": [
    "The **times between demands** are IID exponential random variables with a mean of 0.1 month."
   ]
  },
  {
   "cell_type": "code",
   "execution_count": 11,
   "id": "ca765e12",
   "metadata": {},
   "outputs": [
    {
     "data": {
      "text/plain": [
       "(array([48., 21.,  6., 10.,  9.,  4.,  1.,  0.,  0.,  1.]),\n",
       " array([ 0.02353896,  1.5683179 ,  3.11309684,  4.65787579,  6.20265473,\n",
       "         7.74743367,  9.29221261, 10.83699156, 12.3817705 , 13.92654944,\n",
       "        15.47132838]),\n",
       " <BarContainer object of 10 artists>)"
      ]
     },
     "execution_count": 11,
     "metadata": {},
     "output_type": "execute_result"
    },
    {
     "data": {
      "image/png": "[encoded data removed]",
      "text/plain": [
       "<Figure size 432x288 with 1 Axes>"
      ]
     },
     "metadata": {
      "needs_background": "light"
     },
     "output_type": "display_data"
    }
   ],
   "source": [
    "plt.hist(np.random.exponential(0.1*30, size=100))"
   ]
  },
  {
   "cell_type": "markdown",
   "id": "0e767376",
   "metadata": {},
   "source": [
    "The **Demand size** is D, are IID random variables (independent of when the demands occur), with"
   ]
  },
  {
   "cell_type": "code",
   "execution_count": 12,
   "id": "06304d61",
   "metadata": {},
   "outputs": [
    {
     "data": {
      "text/plain": [
       "(array([160.,   0.,   0., 335.,   0.,   0., 339.,   0.,   0., 166.]),\n",
       " array([1. , 1.3, 1.6, 1.9, 2.2, 2.5, 2.8, 3.1, 3.4, 3.7, 4. ]),\n",
       " <BarContainer object of 10 artists>)"
      ]
     },
     "execution_count": 12,
     "metadata": {},
     "output_type": "execute_result"
    },
    {
     "data": {
      "image/png": "[encoded data removed]",
      "text/plain": [
       "<Figure size 432x288 with 1 Axes>"
      ]
     },
     "metadata": {
      "needs_background": "light"
     },
     "output_type": "display_data"
    }
   ],
   "source": [
    "plt.hist(np.random.choice([1,2,3,4],1000, p=[1/6, 1/3, 1/3, 1/6]))"
   ]
  },
  {
   "cell_type": "markdown",
   "id": "ffa1c920",
   "metadata": {},
   "source": [
    "**Order** of Z items"
   ]
  },
  {
   "cell_type": "code",
   "execution_count": 13,
   "id": "1e2ddecd",
   "metadata": {},
   "outputs": [
    {
     "data": {
      "text/plain": [
       "(array([12.,  4., 13., 18.,  9., 10.,  4.,  5., 10., 15.]),\n",
       " array([0.50333018, 0.55272195, 0.60211372, 0.65150549, 0.70089726,\n",
       "        0.75028903, 0.7996808 , 0.84907257, 0.89846434, 0.94785611,\n",
       "        0.99724788]),\n",
       " <BarContainer object of 10 artists>)"
      ]
     },
     "execution_count": 13,
     "metadata": {},
     "output_type": "execute_result"
    },
    {
     "data": {
      "image/png": "[encoded data removed]",
      "text/plain": [
       "<Figure size 432x288 with 1 Axes>"
      ]
     },
     "metadata": {
      "needs_background": "light"
     },
     "output_type": "display_data"
    }
   ],
   "source": [
    "plt.hist([np.random.rand()/2+0.5 for i in range(100)])"
   ]
  },
  {
   "cell_type": "code",
   "execution_count": 14,
   "id": "f384acf9",
   "metadata": {},
   "outputs": [],
   "source": [
    "S = 100\n",
    "s = 5\n",
    "stock_0 = 15\n",
    "backlog_0 = 0"
   ]
  },
  {
   "cell_type": "code",
   "execution_count": 45,
   "id": "2c8c3d9a",
   "metadata": {},
   "outputs": [
    {
     "name": "stdout",
     "output_type": "stream",
     "text": [
      "hello\n",
      "joan\n",
      "ddw\n"
     ]
    }
   ],
   "source": [
    "if True: print(\"hello\"); print(\"joan\");print(\"ddw\")"
   ]
  },
  {
   "cell_type": "code",
   "execution_count": 98,
   "id": "456d12be",
   "metadata": {},
   "outputs": [],
   "source": [
    "class System:\n",
    "    def __init__(self, env, stock_max, stock_min, stock_ini, backlog_ini ):\n",
    "        self.env = env\n",
    "        self.S = stock_max\n",
    "        self.s = stock_min\n",
    "        self.stock_0 = stock_ini\n",
    "        self.backlog_0 = backlog_ini\n",
    "        self.inventory = simpy.Container(self.env, self.S, self.stock_0)\n",
    "        self.backlog = simpy.Container(self.env, 1000, self.backlog_0)\n",
    "        \n",
    "        self.I = [(0,stock_ini)]\n",
    "        self.B = [(0,backlog_ini)]\n",
    "        \n",
    "        # Start the run process everytime an instance is created.\n",
    "        self.action1 = env.process(self.order())\n",
    "        self.action2 = env.process(self.demand())\n",
    "            \n",
    "    def order(self):\n",
    "        for i in itertools.count():\n",
    "            #order each month\n",
    "            yield self.env.timeout(30) \n",
    "            if self.inventory.level<self.s:\n",
    "\n",
    "                order_size = self.S - self.inventory.level \n",
    "                print(\"start order {} of {} at day {}\".format(i,order_size, self.env.now, self.inventory.level)) \n",
    "                yield self.env.timeout((np.random.rand()/2+0.5)*30)\n",
    "\n",
    "                added_stock = order_size - self.backlog.level\n",
    "                \n",
    "                if self.backlog.level>0: self.backlog.get(self.backlog.level); self.append_backlog()\n",
    "                if added_stock>0: self.inventory.put(added_stock); self.append_stock()\n",
    "                    \n",
    "\n",
    "                print(\"recieved order {} of {} at day {}, stock at {}\".format(i,order_size, self.env.now, self.inventory.level)) \n",
    "\n",
    "            else:\n",
    "                print(\"order of {} at day {}\".format(0, self.env.now)) \n",
    "\n",
    "\n",
    "    def demand(self):\n",
    "        while True:\n",
    "            # demand every 0.1  months\n",
    "\n",
    "            yield self.env.timeout(np.random.exponential(0.1*30)) \n",
    "\n",
    "            demand_size = np.random.choice([1,2,3,4], p=[1/6, 1/3, 1/3, 1/6])\n",
    "\n",
    "            # demand from inventory\n",
    "            if self.inventory.level-demand_size>0:\n",
    "                self.inventory.get(demand_size)\n",
    "                self.append_stock()\n",
    "\n",
    "            # Inventory + Backlog\n",
    "            else: \n",
    "                B = demand_size - self.inventory.level\n",
    "                I = self.inventory.level\n",
    "\n",
    "                if B>0: self.backlog.put(B); self.append_backlog()\n",
    "                if I>0: self.inventory.get(I); self.append_stock()\n",
    "\n",
    "\n",
    "    #         print(\"demand {} at day {}\".format(demand_size, env.now))\n",
    "            print(\"demand {}, inventory {}\".format(demand_size, self.inventory.level))\n",
    "        \n",
    "        \n",
    "    def append_stock(self):\n",
    "        self.I.append((self.env.now, self.inventory.level))\n",
    "    \n",
    "    def append_backlog(self):\n",
    "        self.B.append((self.env.now, self.backlog.level))\n",
    "\n",
    "            \n"
   ]
  },
  {
   "cell_type": "code",
   "execution_count": 99,
   "id": "a7c0c50c",
   "metadata": {},
   "outputs": [
    {
     "name": "stdout",
     "output_type": "stream",
     "text": [
      "demand 3, inventory 12\n",
      "demand 3, inventory 9\n",
      "demand 4, inventory 5\n",
      "demand 2, inventory 3\n",
      "start order 0 of 97 at day 30\n",
      "demand 3, inventory 0\n",
      "demand 1, inventory 0\n",
      "demand 3, inventory 0\n",
      "demand 1, inventory 0\n",
      "demand 3, inventory 0\n",
      "demand 3, inventory 0\n",
      "demand 1, inventory 0\n",
      "demand 4, inventory 0\n",
      "demand 3, inventory 0\n",
      "recieved order 0 of 97 at day 58.567197792808585, stock at 78\n",
      "demand 2, inventory 76\n",
      "demand 1, inventory 75\n",
      "demand 3, inventory 72\n",
      "demand 1, inventory 71\n",
      "demand 2, inventory 69\n",
      "demand 2, inventory 67\n",
      "demand 3, inventory 64\n",
      "demand 3, inventory 61\n",
      "demand 4, inventory 57\n",
      "demand 4, inventory 53\n",
      "demand 3, inventory 50\n",
      "demand 2, inventory 48\n",
      "order of 0 at day 88.56719779280859\n",
      "demand 4, inventory 44\n",
      "demand 2, inventory 42\n",
      "demand 1, inventory 41\n",
      "demand 3, inventory 38\n",
      "demand 2, inventory 36\n",
      "demand 2, inventory 34\n",
      "demand 3, inventory 31\n",
      "demand 2, inventory 29\n",
      "order of 0 at day 118.56719779280859\n",
      "demand 2, inventory 27\n",
      "demand 3, inventory 24\n",
      "demand 3, inventory 21\n",
      "demand 3, inventory 18\n",
      "demand 4, inventory 14\n",
      "demand 3, inventory 11\n",
      "demand 3, inventory 8\n",
      "demand 2, inventory 6\n",
      "demand 1, inventory 5\n",
      "demand 3, inventory 2\n",
      "demand 4, inventory 0\n",
      "demand 4, inventory 0\n",
      "start order 3 of 100 at day 148.5671977928086\n",
      "demand 1, inventory 0\n",
      "demand 3, inventory 0\n",
      "demand 2, inventory 0\n",
      "demand 2, inventory 0\n",
      "demand 1, inventory 0\n",
      "recieved order 3 of 100 at day 170.95925774683897, stock at 85\n",
      "demand 2, inventory 83\n",
      "demand 1, inventory 82\n",
      "demand 3, inventory 79\n",
      "demand 4, inventory 75\n",
      "demand 2, inventory 73\n",
      "demand 4, inventory 69\n",
      "demand 1, inventory 68\n",
      "demand 2, inventory 66\n",
      "demand 2, inventory 64\n",
      "demand 1, inventory 63\n",
      "demand 3, inventory 60\n",
      "demand 3, inventory 57\n",
      "demand 3, inventory 54\n",
      "order of 0 at day 200.95925774683897\n",
      "demand 1, inventory 53\n",
      "demand 3, inventory 50\n",
      "demand 2, inventory 48\n",
      "demand 4, inventory 44\n",
      "demand 4, inventory 40\n",
      "demand 4, inventory 36\n",
      "demand 3, inventory 33\n",
      "demand 1, inventory 32\n",
      "demand 2, inventory 30\n",
      "demand 3, inventory 27\n",
      "order of 0 at day 230.95925774683897\n",
      "demand 3, inventory 24\n",
      "demand 1, inventory 23\n",
      "demand 3, inventory 20\n",
      "demand 1, inventory 19\n",
      "demand 3, inventory 16\n",
      "demand 4, inventory 12\n",
      "demand 2, inventory 10\n",
      "demand 2, inventory 8\n",
      "demand 3, inventory 5\n",
      "demand 1, inventory 4\n",
      "start order 6 of 96 at day 260.95925774683894\n",
      "demand 2, inventory 2\n",
      "demand 3, inventory 0\n",
      "demand 3, inventory 0\n",
      "demand 1, inventory 0\n",
      "demand 4, inventory 0\n",
      "recieved order 6 of 96 at day 280.40903004636687, stock at 87\n",
      "demand 2, inventory 85\n",
      "demand 2, inventory 83\n",
      "demand 4, inventory 79\n",
      "demand 1, inventory 78\n",
      "demand 1, inventory 77\n",
      "demand 2, inventory 75\n",
      "order of 0 at day 310.40903004636687\n",
      "demand 1, inventory 74\n",
      "demand 4, inventory 70\n",
      "demand 2, inventory 68\n",
      "demand 2, inventory 66\n",
      "demand 3, inventory 63\n",
      "demand 2, inventory 61\n",
      "demand 2, inventory 59\n",
      "demand 3, inventory 56\n",
      "demand 2, inventory 54\n",
      "order of 0 at day 340.40903004636687\n",
      "demand 2, inventory 52\n",
      "demand 1, inventory 51\n",
      "demand 4, inventory 47\n",
      "demand 3, inventory 44\n",
      "demand 4, inventory 40\n",
      "demand 3, inventory 37\n",
      "demand 3, inventory 34\n",
      "demand 3, inventory 31\n",
      "demand 1, inventory 30\n",
      "order of 0 at day 370.40903004636687\n",
      "demand 4, inventory 26\n",
      "demand 2, inventory 24\n",
      "demand 2, inventory 22\n",
      "demand 1, inventory 21\n",
      "demand 2, inventory 19\n",
      "demand 3, inventory 16\n",
      "demand 3, inventory 13\n",
      "demand 3, inventory 10\n",
      "demand 3, inventory 7\n",
      "demand 4, inventory 3\n",
      "start order 10 of 97 at day 400.40903004636687\n",
      "demand 2, inventory 1\n",
      "demand 3, inventory 0\n",
      "demand 3, inventory 0\n",
      "recieved order 10 of 97 at day 423.53623573701003, stock at 92\n",
      "demand 2, inventory 90\n",
      "demand 4, inventory 86\n",
      "demand 1, inventory 85\n",
      "demand 3, inventory 82\n",
      "demand 3, inventory 79\n",
      "demand 3, inventory 76\n",
      "demand 2, inventory 74\n",
      "demand 1, inventory 73\n",
      "demand 4, inventory 69\n",
      "demand 3, inventory 66\n",
      "order of 0 at day 453.53623573701003\n",
      "demand 3, inventory 63\n",
      "demand 3, inventory 60\n",
      "demand 3, inventory 57\n",
      "demand 2, inventory 55\n",
      "demand 2, inventory 53\n",
      "demand 3, inventory 50\n",
      "demand 1, inventory 49\n",
      "demand 2, inventory 47\n",
      "demand 3, inventory 44\n",
      "demand 3, inventory 41\n",
      "demand 3, inventory 38\n",
      "demand 2, inventory 36\n",
      "order of 0 at day 483.53623573701003\n",
      "demand 2, inventory 34\n",
      "demand 4, inventory 30\n",
      "demand 3, inventory 27\n",
      "demand 4, inventory 23\n",
      "demand 3, inventory 20\n",
      "demand 3, inventory 17\n",
      "demand 2, inventory 15\n",
      "demand 4, inventory 11\n",
      "demand 2, inventory 9\n",
      "demand 2, inventory 7\n",
      "order of 0 at day 513.53623573701\n",
      "demand 1, inventory 6\n",
      "demand 2, inventory 4\n",
      "demand 1, inventory 3\n",
      "demand 1, inventory 2\n",
      "demand 2, inventory 0\n",
      "demand 3, inventory 0\n",
      "demand 3, inventory 0\n",
      "demand 4, inventory 0\n",
      "demand 2, inventory 0\n",
      "demand 2, inventory 0\n",
      "demand 4, inventory 0\n",
      "demand 2, inventory 0\n",
      "start order 14 of 100 at day 543.53623573701\n",
      "demand 3, inventory 0\n",
      "demand 3, inventory 0\n",
      "demand 2, inventory 0\n",
      "demand 3, inventory 0\n",
      "demand 3, inventory 0\n",
      "demand 3, inventory 0\n",
      "recieved order 14 of 100 at day 564.7349224053216, stock at 63\n",
      "demand 2, inventory 61\n",
      "demand 4, inventory 57\n",
      "demand 2, inventory 55\n",
      "demand 3, inventory 52\n",
      "demand 3, inventory 49\n",
      "demand 2, inventory 47\n",
      "demand 3, inventory 44\n",
      "demand 3, inventory 41\n",
      "order of 0 at day 594.7349224053216\n",
      "demand 1, inventory 40\n",
      "demand 3, inventory 37\n",
      "demand 3, inventory 34\n",
      "demand 3, inventory 31\n",
      "demand 1, inventory 30\n",
      "demand 2, inventory 28\n",
      "demand 3, inventory 25\n",
      "demand 1, inventory 24\n",
      "demand 2, inventory 22\n",
      "demand 3, inventory 19\n",
      "order of 0 at day 624.7349224053216\n",
      "demand 2, inventory 17\n",
      "demand 3, inventory 14\n",
      "demand 3, inventory 11\n",
      "demand 4, inventory 7\n",
      "demand 3, inventory 4\n",
      "demand 3, inventory 1\n",
      "demand 1, inventory 0\n",
      "demand 3, inventory 0\n",
      "demand 2, inventory 0\n",
      "demand 3, inventory 0\n",
      "demand 3, inventory 0\n",
      "demand 2, inventory 0\n",
      "demand 2, inventory 0\n",
      "start order 17 of 100 at day 654.7349224053216\n",
      "demand 3, inventory 0\n",
      "demand 1, inventory 0\n",
      "demand 2, inventory 0\n",
      "demand 2, inventory 0\n",
      "demand 4, inventory 0\n",
      "demand 4, inventory 0\n",
      "demand 2, inventory 0\n",
      "demand 2, inventory 0\n",
      "demand 1, inventory 0\n",
      "recieved order 17 of 100 at day 674.0040102153043, stock at 64\n",
      "demand 1, inventory 63\n",
      "demand 2, inventory 61\n",
      "demand 2, inventory 59\n",
      "demand 2, inventory 57\n",
      "demand 4, inventory 53\n",
      "demand 2, inventory 51\n",
      "demand 4, inventory 47\n",
      "demand 2, inventory 45\n",
      "demand 2, inventory 43\n",
      "demand 3, inventory 40\n",
      "order of 0 at day 704.0040102153043\n",
      "demand 3, inventory 37\n",
      "demand 1, inventory 36\n",
      "demand 3, inventory 33\n",
      "demand 3, inventory 30\n",
      "demand 3, inventory 27\n",
      "demand 3, inventory 24\n",
      "demand 2, inventory 22\n",
      "demand 4, inventory 18\n",
      "demand 2, inventory 16\n",
      "order of 0 at day 734.0040102153043\n",
      "demand 2, inventory 14\n",
      "demand 2, inventory 12\n",
      "demand 3, inventory 9\n",
      "demand 1, inventory 8\n",
      "demand 3, inventory 5\n",
      "demand 4, inventory 1\n",
      "demand 2, inventory 0\n",
      "demand 3, inventory 0\n",
      "demand 2, inventory 0\n",
      "demand 1, inventory 0\n",
      "demand 2, inventory 0\n",
      "demand 3, inventory 0\n",
      "demand 2, inventory 0\n",
      "start order 20 of 100 at day 764.0040102153043\n",
      "demand 3, inventory 0\n",
      "demand 2, inventory 0\n",
      "demand 1, inventory 0\n",
      "demand 2, inventory 0\n",
      "demand 3, inventory 0\n",
      "demand 2, inventory 0\n",
      "demand 2, inventory 0\n",
      "demand 3, inventory 0\n",
      "demand 2, inventory 0\n",
      "demand 4, inventory 0\n",
      "demand 1, inventory 0\n",
      "recieved order 20 of 100 at day 790.7555516795321, stock at 61\n",
      "demand 3, inventory 58\n",
      "demand 1, inventory 57\n",
      "demand 3, inventory 54\n",
      "demand 4, inventory 50\n",
      "demand 3, inventory 47\n",
      "demand 1, inventory 46\n",
      "demand 2, inventory 44\n",
      "demand 2, inventory 42\n",
      "demand 3, inventory 39\n",
      "demand 3, inventory 36\n",
      "demand 3, inventory 33\n",
      "demand 2, inventory 31\n",
      "demand 3, inventory 28\n",
      "demand 2, inventory 26\n",
      "order of 0 at day 820.7555516795321\n",
      "demand 3, inventory 23\n",
      "demand 3, inventory 20\n",
      "demand 2, inventory 18\n",
      "demand 4, inventory 14\n",
      "demand 1, inventory 13\n",
      "demand 4, inventory 9\n",
      "demand 2, inventory 7\n",
      "demand 2, inventory 5\n",
      "demand 4, inventory 1\n",
      "demand 2, inventory 0\n",
      "demand 3, inventory 0\n",
      "demand 4, inventory 0\n",
      "start order 22 of 100 at day 850.7555516795321\n",
      "demand 3, inventory 0\n",
      "demand 2, inventory 0\n",
      "recieved order 22 of 100 at day 866.3718476824856, stock at 87\n",
      "demand 2, inventory 85\n",
      "demand 2, inventory 83\n",
      "demand 3, inventory 80\n",
      "demand 3, inventory 77\n",
      "demand 3, inventory 74\n",
      "demand 1, inventory 73\n",
      "demand 2, inventory 71\n",
      "demand 4, inventory 67\n",
      "demand 2, inventory 65\n",
      "demand 2, inventory 63\n",
      "demand 2, inventory 61\n",
      "demand 2, inventory 59\n",
      "order of 0 at day 896.3718476824856\n",
      "demand 2, inventory 57\n",
      "demand 2, inventory 55\n",
      "demand 2, inventory 53\n",
      "demand 3, inventory 50\n",
      "demand 3, inventory 47\n",
      "demand 4, inventory 43\n",
      "demand 1, inventory 42\n",
      "demand 1, inventory 41\n",
      "demand 2, inventory 39\n",
      "demand 1, inventory 38\n",
      "demand 3, inventory 35\n",
      "demand 2, inventory 33\n",
      "demand 3, inventory 30\n",
      "demand 4, inventory 26\n",
      "demand 2, inventory 24\n",
      "demand 2, inventory 22\n",
      "order of 0 at day 926.3718476824856\n",
      "demand 2, inventory 20\n",
      "demand 3, inventory 17\n",
      "demand 2, inventory 15\n",
      "demand 3, inventory 12\n",
      "demand 2, inventory 10\n",
      "demand 2, inventory 8\n",
      "demand 2, inventory 6\n",
      "demand 3, inventory 3\n",
      "demand 3, inventory 0\n",
      "demand 4, inventory 0\n",
      "demand 2, inventory 0\n",
      "start order 25 of 100 at day 956.3718476824856\n",
      "demand 3, inventory 0\n",
      "demand 3, inventory 0\n",
      "demand 1, inventory 0\n",
      "demand 3, inventory 0\n",
      "demand 3, inventory 0\n",
      "demand 2, inventory 0\n",
      "demand 1, inventory 0\n",
      "demand 1, inventory 0\n",
      "recieved order 25 of 100 at day 979.9360905173531, stock at 77\n",
      "demand 3, inventory 74\n",
      "demand 3, inventory 71\n",
      "demand 2, inventory 69\n",
      "demand 4, inventory 65\n",
      "demand 1, inventory 64\n",
      "demand 3, inventory 61\n",
      "demand 1, inventory 60\n",
      "demand 3, inventory 57\n",
      "demand 1, inventory 56\n",
      "demand 2, inventory 54\n"
     ]
    }
   ],
   "source": [
    "stock_max, stock_min, stock_ini, backlog_ini = (100, 5, 15, 0)\n",
    "sim_time = 1000\n",
    "env = simpy.Environment()\n",
    "system = System(env, stock_max, stock_min, stock_ini, backlog_ini)\n",
    "env.run(until=sim_time)"
   ]
  },
  {
   "cell_type": "code",
   "execution_count": 100,
   "id": "394ea6a6",
   "metadata": {},
   "outputs": [],
   "source": [
    "def acum(data):\n",
    "    l = np.zeros(sim_time*100)\n",
    "    l[:] = data[0][1]\n",
    "    for i in range(1,len(data)):\n",
    "        idx = int(data[i][0]*100)\n",
    "        value = data[i][1]\n",
    "        l[idx:] = value\n",
    "    return l\n"
   ]
  },
  {
   "cell_type": "code",
   "execution_count": 101,
   "id": "805d156e",
   "metadata": {},
   "outputs": [
    {
     "data": {
      "image/png": "[encoded data removed]",
      "text/plain": [
       "<Figure size 1008x288 with 1 Axes>"
      ]
     },
     "metadata": {
      "needs_background": "light"
     },
     "output_type": "display_data"
    }
   ],
   "source": [
    "t = np.arange(0,sim_time,0.01)\n",
    "plt.figure(figsize=(14,4))\n",
    "plt.title(\"Inventory level\",size=20)\n",
    "plt.plot(t,acum(system.I), label=\"stock\")\n",
    "plt.plot(t,-acum(system.B), label=\"backlog\")\n",
    "# plt.plot(t,acum(system.I)-acum(system.B), label=\"I(t)\")\n",
    "# plt.plot(t,acum(waiting_times))\n",
    "plt.legend()\n",
    "plt.show()"
   ]
  },
  {
   "cell_type": "code",
   "execution_count": null,
   "id": "5d09eb7a",
   "metadata": {},
   "outputs": [],
   "source": []
  }
 ],
 "metadata": {
  "kernelspec": {
   "display_name": "Python 3 (ipykernel)",
   "language": "python",
   "name": "python3"
  },
  "language_info": {
   "codemirror_mode": {
    "name": "ipython",
    "version": 3
   },
   "file_extension": ".py",
   "mimetype": "text/x-python",
   "name": "python",
   "nbconvert_exporter": "python",
   "pygments_lexer": "ipython3",
   "version": "3.9.7"
  }
 },
 "nbformat": 4,
 "nbformat_minor": 5
}
