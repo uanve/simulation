{
 "cells": [
  {
   "cell_type": "code",
   "execution_count": 165,
   "id": "76a8c847",
   "metadata": {},
   "outputs": [],
   "source": [
    "import simpy\n",
    "import itertools\n",
    "import numpy as np"
   ]
  },
  {
   "cell_type": "markdown",
   "id": "2adec216",
   "metadata": {},
   "source": [
    "## SINGLE-SERVER QUEUEING SYSTEM"
   ]
  },
  {
   "cell_type": "markdown",
   "id": "2fce2d91",
   "metadata": {},
   "source": [
    "Processes\n",
    "- arrival \n",
    "- service"
   ]
  },
  {
   "cell_type": "markdown",
   "id": "706f337e",
   "metadata": {},
   "source": [
    "#### Generating all cars"
   ]
  },
  {
   "cell_type": "code",
   "execution_count": 157,
   "id": "90671ede",
   "metadata": {},
   "outputs": [],
   "source": [
    "def car(env, name, bcs, driving_time, charge_duration):\n",
    "    # Simulate driving to Charging Station\n",
    "    yield env.timeout(driving_time)\n",
    "    \n",
    "    # Request one of it's charging stations\n",
    "    print('car {} is arriving at {:.0f}'.format(name, env.now))\n",
    "    with bcs.request() as req:\n",
    "        yield req\n",
    "        \n",
    "        # Charge the battery\n",
    "        print('starting to charge Car {} at {}'.format(name, env.now))\n",
    "        yield env.timeout(charge_duration)\n",
    "        print('Car {} finished charging at {}'.format(name, env.now))\n",
    "    "
   ]
  },
  {
   "cell_type": "code",
   "execution_count": 159,
   "id": "5508a3f8",
   "metadata": {},
   "outputs": [
    {
     "name": "stdout",
     "output_type": "stream",
     "text": [
      "car 1 is arriving at 1\n",
      "starting to charge Car 1 at 1\n",
      "car 2 is arriving at 2\n",
      "starting to charge Car 2 at 2\n",
      "car 3 is arriving at 3\n",
      "car 4 is arriving at 4\n",
      "Car 1 finished charging at 6\n",
      "starting to charge Car 3 at 6\n",
      "Car 2 finished charging at 7\n",
      "starting to charge Car 4 at 7\n",
      "Car 3 finished charging at 11\n",
      "Car 4 finished charging at 12\n"
     ]
    }
   ],
   "source": [
    "env = simpy.Environment()\n",
    "bcs = simpy.Resource(env, capacity=2)\n",
    "env.process(car(env, \"1\", bcs, 1, 5))\n",
    "env.process(car(env, \"2\", bcs, 2, 5))\n",
    "env.process(car(env, \"3\", bcs, 3, 5))\n",
    "env.process(car(env, \"4\", bcs, 4, 5))\n",
    "env.run(until=60)"
   ]
  },
  {
   "cell_type": "markdown",
   "id": "2141faf2",
   "metadata": {},
   "source": [
    "#### with car generator"
   ]
  },
  {
   "cell_type": "code",
   "execution_count": 173,
   "id": "52ee6c3c",
   "metadata": {},
   "outputs": [],
   "source": [
    "def car(env, name, queue, charge_duration):\n",
    "    print('{} is arriving at {:.2f}'.format(name, env.now))\n",
    "    with queue.request() as req:\n",
    "        yield req\n",
    "        \n",
    "        # Charge the battery\n",
    "        print('starting to serve {} at {:.2f}'.format(name, env.now))\n",
    "        yield env.timeout(np.random.exponential(charge_duration))\n",
    "        print('{} finished serving at {:.2f}'.format(name, env.now))\n",
    "        "
   ]
  },
  {
   "cell_type": "code",
   "execution_count": 174,
   "id": "8b79d947",
   "metadata": {},
   "outputs": [],
   "source": [
    "def car_generator(env, queue):\n",
    "    interarrival_time = 10\n",
    "    charge_duration = 5\n",
    "    \"\"\"Generate new cars that arrive at the gas station.\"\"\"\n",
    "    for i in itertools.count():\n",
    "#     for i in range(1,5):\n",
    "        yield env.timeout(np.random.exponential(10))\n",
    "        \n",
    "        env.process(car(env, 'Car %d' % i, queue, charge_duration ))\n",
    "    return i"
   ]
  },
  {
   "cell_type": "code",
   "execution_count": 175,
   "id": "bfca6d39",
   "metadata": {},
   "outputs": [
    {
     "name": "stdout",
     "output_type": "stream",
     "text": [
      "Car 0 is arriving at 6.77\n",
      "starting to serve Car 0 at 6.77\n",
      "Car 1 is arriving at 9.81\n",
      "starting to serve Car 1 at 9.81\n",
      "Car 1 finished serving at 11.48\n",
      "Car 2 is arriving at 13.19\n",
      "starting to serve Car 2 at 13.19\n",
      "Car 3 is arriving at 14.31\n",
      "Car 2 finished serving at 16.00\n",
      "starting to serve Car 3 at 16.00\n",
      "Car 0 finished serving at 16.57\n",
      "Car 3 finished serving at 19.04\n",
      "Car 4 is arriving at 46.24\n",
      "starting to serve Car 4 at 46.24\n",
      "Car 4 finished serving at 47.55\n",
      "Car 5 is arriving at 49.50\n",
      "starting to serve Car 5 at 49.50\n",
      "Car 6 is arriving at 49.68\n",
      "starting to serve Car 6 at 49.68\n",
      "Car 7 is arriving at 52.68\n",
      "Car 8 is arriving at 52.76\n",
      "Car 5 finished serving at 54.19\n",
      "starting to serve Car 7 at 54.19\n",
      "Car 7 finished serving at 54.64\n",
      "starting to serve Car 8 at 54.64\n",
      "Car 9 is arriving at 55.02\n",
      "Car 6 finished serving at 58.51\n",
      "starting to serve Car 9 at 58.51\n"
     ]
    }
   ],
   "source": [
    "env = simpy.Environment()\n",
    "queue = simpy.Resource(env, capacity=2)\n",
    "proc = env.process(car_generator(env, queue))\n",
    "env.run(until=60)"
   ]
  },
  {
   "cell_type": "code",
   "execution_count": 169,
   "id": "7bd2e8fa",
   "metadata": {},
   "outputs": [
    {
     "data": {
      "text/plain": [
       "9.735241301868783"
      ]
     },
     "execution_count": 169,
     "metadata": {},
     "output_type": "execute_result"
    }
   ],
   "source": [
    "np.mean(np.random.exponential(10,size=100))"
   ]
  }
 ],
 "metadata": {
  "kernelspec": {
   "display_name": "Python 3 (ipykernel)",
   "language": "python",
   "name": "python3"
  },
  "language_info": {
   "codemirror_mode": {
    "name": "ipython",
    "version": 3
   },
   "file_extension": ".py",
   "mimetype": "text/x-python",
   "name": "python",
   "nbconvert_exporter": "python",
   "pygments_lexer": "ipython3",
   "version": "3.9.7"
  }
 },
 "nbformat": 4,
 "nbformat_minor": 5
}
