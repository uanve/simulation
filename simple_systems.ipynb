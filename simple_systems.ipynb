{
 "cells": [
  {
   "cell_type": "code",
   "execution_count": 2,
   "id": "76a8c847",
   "metadata": {},
   "outputs": [],
   "source": [
    "import simpy\n",
    "import itertools\n",
    "import numpy as np"
   ]
  },
  {
   "cell_type": "markdown",
   "id": "2adec216",
   "metadata": {},
   "source": [
    "## SINGLE-SERVER QUEUEING SYSTEM"
   ]
  },
  {
   "cell_type": "markdown",
   "id": "2fce2d91",
   "metadata": {},
   "source": [
    "Processes\n",
    "- arrival \n",
    "- service"
   ]
  },
  {
   "cell_type": "markdown",
   "id": "706f337e",
   "metadata": {},
   "source": [
    "#### Generating all cars"
   ]
  },
  {
   "cell_type": "code",
   "execution_count": 3,
   "id": "90671ede",
   "metadata": {},
   "outputs": [],
   "source": [
    "def car(env, name, bcs, driving_time, charge_duration):\n",
    "    # Simulate driving to Charging Station\n",
    "    yield env.timeout(driving_time)\n",
    "    \n",
    "    # Request one of it's charging stations\n",
    "    print('car {} is arriving at {:.0f}'.format(name, env.now))\n",
    "    with bcs.request() as req:\n",
    "        yield req\n",
    "        \n",
    "        # Charge the battery\n",
    "        print('starting to charge Car {} at {}'.format(name, env.now))\n",
    "        yield env.timeout(charge_duration)\n",
    "        print('Car {} finished charging at {}'.format(name, env.now))\n",
    "    "
   ]
  },
  {
   "cell_type": "code",
   "execution_count": 4,
   "id": "5508a3f8",
   "metadata": {},
   "outputs": [
    {
     "name": "stdout",
     "output_type": "stream",
     "text": [
      "car 1 is arriving at 1\n",
      "starting to charge Car 1 at 1\n",
      "car 2 is arriving at 2\n",
      "starting to charge Car 2 at 2\n",
      "car 3 is arriving at 3\n",
      "car 4 is arriving at 4\n",
      "Car 1 finished charging at 6\n",
      "starting to charge Car 3 at 6\n",
      "Car 2 finished charging at 7\n",
      "starting to charge Car 4 at 7\n",
      "Car 3 finished charging at 11\n",
      "Car 4 finished charging at 12\n"
     ]
    }
   ],
   "source": [
    "env = simpy.Environment()\n",
    "bcs = simpy.Resource(env, capacity=2)\n",
    "env.process(car(env, \"1\", bcs, 1, 5))\n",
    "env.process(car(env, \"2\", bcs, 2, 5))\n",
    "env.process(car(env, \"3\", bcs, 3, 5))\n",
    "env.process(car(env, \"4\", bcs, 4, 5))\n",
    "env.run(until=60)"
   ]
  },
  {
   "cell_type": "markdown",
   "id": "2141faf2",
   "metadata": {},
   "source": [
    "#### with car generator"
   ]
  },
  {
   "cell_type": "code",
   "execution_count": 66,
   "id": "69df2e18",
   "metadata": {},
   "outputs": [],
   "source": [
    "arrival_times = []\n",
    "waiting_times = []\n",
    "service_times = []"
   ]
  },
  {
   "cell_type": "code",
   "execution_count": 67,
   "id": "52ee6c3c",
   "metadata": {},
   "outputs": [],
   "source": [
    "def car(env, name, queue, charge_duration):\n",
    "    arrival_time = env.now\n",
    "    arrival_times.append(arrival_time)\n",
    "    print('{} is arriving at {:.2f}'.format(name, env.now))\n",
    "    with queue.request() as req:\n",
    "        yield req\n",
    "        \n",
    "    # Start serving\n",
    "    waiting_time = env.now - arrival_time\n",
    "    print('starting to serve {} at {:.2f}'.format(name, env.now))\n",
    "    waiting_times.append(waiting_time)\n",
    "        \n",
    "    # Finish serving\n",
    "    yield env.timeout(np.random.exponential(charge_duration))\n",
    "    print('{} finished serving at {:.2f}'.format(name, env.now))\n",
    "        \n",
    "    service_times.append(env.now - waiting_time - arrival_time)\n",
    "    "
   ]
  },
  {
   "cell_type": "code",
   "execution_count": 68,
   "id": "8b79d947",
   "metadata": {},
   "outputs": [],
   "source": [
    "def car_generator(env, queue):\n",
    "    interarrival_time = 10\n",
    "    charge_duration = 5\n",
    "    \"\"\"Generate new cars that arrive at the gas station.\"\"\"\n",
    "    for i in itertools.count():\n",
    "#     for i in range(1,5):\n",
    "        yield env.timeout(np.random.exponential(10))\n",
    "        \n",
    "        env.process(car(env, 'Car %d' % i, queue, charge_duration ))\n",
    "    return i"
   ]
  },
  {
   "cell_type": "code",
   "execution_count": 69,
   "id": "bfca6d39",
   "metadata": {},
   "outputs": [
    {
     "name": "stdout",
     "output_type": "stream",
     "text": [
      "Car 0 is arriving at 6.64\n",
      "starting to serve Car 0 at 6.64\n",
      "Car 1 is arriving at 13.04\n",
      "starting to serve Car 1 at 13.04\n",
      "Car 1 finished serving at 18.20\n",
      "Car 0 finished serving at 18.85\n",
      "Car 2 is arriving at 33.56\n",
      "starting to serve Car 2 at 33.56\n",
      "Car 2 finished serving at 34.60\n",
      "Car 3 is arriving at 53.14\n",
      "starting to serve Car 3 at 53.14\n",
      "Car 3 finished serving at 56.63\n"
     ]
    }
   ],
   "source": [
    "env = simpy.Environment()\n",
    "queue = simpy.Resource(env, capacity=1)\n",
    "proc = env.process(car_generator(env, queue))\n",
    "env.run(until=60)"
   ]
  },
  {
   "cell_type": "code",
   "execution_count": 70,
   "id": "47cf9729",
   "metadata": {},
   "outputs": [
    {
     "data": {
      "text/plain": [
       "[6.64477617237064, 13.039445867562257, 33.56497880826073, 53.14123228807745]"
      ]
     },
     "execution_count": 70,
     "metadata": {},
     "output_type": "execute_result"
    }
   ],
   "source": [
    "arrival_times"
   ]
  },
  {
   "cell_type": "code",
   "execution_count": 71,
   "id": "7bd2e8fa",
   "metadata": {},
   "outputs": [
    {
     "data": {
      "text/plain": [
       "[0.0, 0.0, 0.0, 0.0]"
      ]
     },
     "execution_count": 71,
     "metadata": {},
     "output_type": "execute_result"
    }
   ],
   "source": [
    "waiting_times"
   ]
  },
  {
   "cell_type": "code",
   "execution_count": 72,
   "id": "82cfd0dd",
   "metadata": {},
   "outputs": [
    {
     "data": {
      "text/plain": [
       "[5.158162338179579, 12.203846815848586, 1.0378199138162145, 3.492224707584967]"
      ]
     },
     "execution_count": 72,
     "metadata": {},
     "output_type": "execute_result"
    }
   ],
   "source": [
    "service_times"
   ]
  },
  {
   "cell_type": "markdown",
   "id": "a75242d8",
   "metadata": {},
   "source": [
    "## SIMULATION OF AN INVENTORY SYSTEM"
   ]
  },
  {
   "cell_type": "code",
   "execution_count": null,
   "id": "26084787",
   "metadata": {},
   "outputs": [],
   "source": []
  }
 ],
 "metadata": {
  "kernelspec": {
   "display_name": "Python 3 (ipykernel)",
   "language": "python",
   "name": "python3"
  },
  "language_info": {
   "codemirror_mode": {
    "name": "ipython",
    "version": 3
   },
   "file_extension": ".py",
   "mimetype": "text/x-python",
   "name": "python",
   "nbconvert_exporter": "python",
   "pygments_lexer": "ipython3",
   "version": "3.9.7"
  }
 },
 "nbformat": 4,
 "nbformat_minor": 5
}
