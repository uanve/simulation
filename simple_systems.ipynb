{
 "cells": [
  {
   "cell_type": "code",
   "execution_count": 1,
   "id": "76a8c847",
   "metadata": {},
   "outputs": [],
   "source": [
    "import simpy\n",
    "import itertools\n",
    "import numpy as np\n",
    "import matplotlib.pyplot as plt"
   ]
  },
  {
   "cell_type": "markdown",
   "id": "2adec216",
   "metadata": {},
   "source": [
    "## SINGLE-SERVER QUEUEING SYSTEM"
   ]
  },
  {
   "cell_type": "markdown",
   "id": "2fce2d91",
   "metadata": {},
   "source": [
    "Processes\n",
    "- arrival \n",
    "- service"
   ]
  },
  {
   "cell_type": "markdown",
   "id": "706f337e",
   "metadata": {},
   "source": [
    "#### Generating all cars"
   ]
  },
  {
   "cell_type": "code",
   "execution_count": 2,
   "id": "90671ede",
   "metadata": {},
   "outputs": [],
   "source": [
    "def car(env, name, bcs, driving_time, charge_duration):\n",
    "    # Simulate driving to Charging Station\n",
    "    yield env.timeout(driving_time)\n",
    "    \n",
    "    # Request one of it's charging stations\n",
    "    print('car {} is arriving at {:.0f}'.format(name, env.now))\n",
    "    with bcs.request() as req:\n",
    "        yield req\n",
    "        \n",
    "        # Charge the battery\n",
    "        print('starting to charge Car {} at {}'.format(name, env.now))\n",
    "        yield env.timeout(charge_duration)\n",
    "        print('Car {} finished charging at {}'.format(name, env.now))\n",
    "    "
   ]
  },
  {
   "cell_type": "code",
   "execution_count": 3,
   "id": "5508a3f8",
   "metadata": {},
   "outputs": [
    {
     "name": "stdout",
     "output_type": "stream",
     "text": [
      "car 1 is arriving at 1\n",
      "starting to charge Car 1 at 1\n",
      "car 2 is arriving at 2\n",
      "starting to charge Car 2 at 2\n",
      "car 3 is arriving at 3\n",
      "car 4 is arriving at 4\n",
      "Car 1 finished charging at 6\n",
      "starting to charge Car 3 at 6\n",
      "Car 2 finished charging at 7\n",
      "starting to charge Car 4 at 7\n",
      "Car 3 finished charging at 11\n",
      "Car 4 finished charging at 12\n"
     ]
    }
   ],
   "source": [
    "env = simpy.Environment()\n",
    "bcs = simpy.Resource(env, capacity=2)\n",
    "env.process(car(env, \"1\", bcs, 1, 5))\n",
    "env.process(car(env, \"2\", bcs, 2, 5))\n",
    "env.process(car(env, \"3\", bcs, 3, 5))\n",
    "env.process(car(env, \"4\", bcs, 4, 5))\n",
    "env.run(until=60)"
   ]
  },
  {
   "cell_type": "markdown",
   "id": "2141faf2",
   "metadata": {},
   "source": [
    "#### with car generator"
   ]
  },
  {
   "cell_type": "code",
   "execution_count": 187,
   "id": "86108a79",
   "metadata": {},
   "outputs": [],
   "source": [
    "sim_time = 100\n",
    "servers = 4\n",
    "\n",
    "arrival_rate = 20 #arrivals/hour \n",
    "service_rate = 5 #service/hour "
   ]
  },
  {
   "cell_type": "code",
   "execution_count": 188,
   "id": "5beca1a4",
   "metadata": {},
   "outputs": [],
   "source": [
    "arrival_times = []\n",
    "start_service_times = []\n",
    "finish_service_times = []"
   ]
  },
  {
   "cell_type": "code",
   "execution_count": 189,
   "id": "52ee6c3c",
   "metadata": {},
   "outputs": [],
   "source": [
    "def car(env, name, queue, charge_duration):\n",
    "    arrival_time = env.now\n",
    "    arrival_times.append(arrival_time)\n",
    "#     print('{} is arriving at {:.2f}'.format(name, env.now))\n",
    "    with queue.request() as req:\n",
    "        yield req\n",
    "        \n",
    "        # Start serving\n",
    "        waiting_time = env.now - arrival_time\n",
    "#         print('starting to serve {} at {:.2f}'.format(name, env.now))\n",
    "        start_service_times.append(env.now)\n",
    "\n",
    "        # Finish serving\n",
    "        yield env.timeout(np.random.exponential(charge_duration))\n",
    "#         print('{} finished serving at {:.2f}'.format(name, env.now))\n",
    "        finish_service_times.append(env.now)# - waiting_time - arrival_time)\n",
    "    "
   ]
  },
  {
   "cell_type": "code",
   "execution_count": 190,
   "id": "8b79d947",
   "metadata": {},
   "outputs": [],
   "source": [
    "def car_generator(env, queue):\n",
    "    interarrival_time = 60/arrival_rate\n",
    "    charge_duration = 60/service_rate\n",
    "    \"\"\"Generate new cars that arrive at the gas station.\"\"\"\n",
    "    for i in itertools.count():\n",
    "#     for i in range(1,5):\n",
    "        yield env.timeout(np.random.exponential(interarrival_time))\n",
    "        \n",
    "        env.process(car(env, 'Car %d' % i, queue, charge_duration ))\n",
    "    return i"
   ]
  },
  {
   "cell_type": "code",
   "execution_count": 191,
   "id": "bfca6d39",
   "metadata": {},
   "outputs": [],
   "source": [
    "env = simpy.Environment()\n",
    "queue = simpy.Resource(env, capacity=servers)\n",
    "proc = env.process(car_generator(env, queue))\n",
    "env.run(until=sim_time)"
   ]
  },
  {
   "cell_type": "code",
   "execution_count": 192,
   "id": "1154363f",
   "metadata": {},
   "outputs": [],
   "source": [
    "def acum(l):\n",
    "#     t = np.arange(0,sim_time,0.01)\n",
    "    Acum = np.zeros(sim_time*100)\n",
    "    for e in l:\n",
    "        idx = int(e*100)\n",
    "        Acum[idx:]+=1\n",
    "#     plt.plot(t,l)\n",
    "#     plt.show()\n",
    "    return Acum"
   ]
  },
  {
   "cell_type": "code",
   "execution_count": 193,
   "id": "534192ce",
   "metadata": {},
   "outputs": [
    {
     "data": {
      "image/png": "[encoded data removed]",
      "text/plain": [
       "<Figure size 432x288 with 1 Axes>"
      ]
     },
     "metadata": {
      "needs_background": "light"
     },
     "output_type": "display_data"
    }
   ],
   "source": [
    "t = np.arange(0,sim_time,0.01)\n",
    "plt.plot(t,acum(arrival_times), label=\"arrivals\")\n",
    "plt.plot(t,acum(start_service_times), label=\"start service\")\n",
    "plt.plot(t,acum(finish_service_times), label=\"finish service\")\n",
    "# plt.plot(t,acum(waiting_times))\n",
    "plt.legend()\n",
    "plt.show()"
   ]
  },
  {
   "cell_type": "markdown",
   "id": "1ead5224",
   "metadata": {},
   "source": [
    "## SIMULATION OF AN INVENTORY SYSTEM"
   ]
  },
  {
   "cell_type": "markdown",
   "id": "83fb16dd",
   "metadata": {},
   "source": [
    "The **times between demands** are IID exponential random variables with a mean of 0.1 month."
   ]
  },
  {
   "cell_type": "code",
   "execution_count": 4,
   "id": "ca765e12",
   "metadata": {},
   "outputs": [
    {
     "data": {
      "text/plain": [
       "(array([41., 22., 17.,  6.,  4.,  6.,  1.,  2.,  0.,  1.]),\n",
       " array([1.86970922e-04, 5.60941411e-02, 1.12001311e-01, 1.67908482e-01,\n",
       "        2.23815652e-01, 2.79722822e-01, 3.35629992e-01, 3.91537162e-01,\n",
       "        4.47444333e-01, 5.03351503e-01, 5.59258673e-01]),\n",
       " <BarContainer object of 10 artists>)"
      ]
     },
     "execution_count": 4,
     "metadata": {},
     "output_type": "execute_result"
    },
    {
     "data": {
      "image/png": "[encoded data removed]",
      "text/plain": [
       "<Figure size 432x288 with 1 Axes>"
      ]
     },
     "metadata": {
      "needs_background": "light"
     },
     "output_type": "display_data"
    }
   ],
   "source": [
    "plt.hist(np.random.exponential(0.1, size=100))"
   ]
  },
  {
   "cell_type": "markdown",
   "id": "0e767376",
   "metadata": {},
   "source": [
    "The **Demand size** is D, are IID random variables (independent of when the demands occur), with"
   ]
  },
  {
   "cell_type": "code",
   "execution_count": 22,
   "id": "06304d61",
   "metadata": {},
   "outputs": [
    {
     "data": {
      "text/plain": [
       "(array([156.,   0.,   0., 343.,   0.,   0., 339.,   0.,   0., 162.]),\n",
       " array([1. , 1.3, 1.6, 1.9, 2.2, 2.5, 2.8, 3.1, 3.4, 3.7, 4. ]),\n",
       " <BarContainer object of 10 artists>)"
      ]
     },
     "execution_count": 22,
     "metadata": {},
     "output_type": "execute_result"
    },
    {
     "data": {
      "image/png": "[encoded data removed]",
      "text/plain": [
       "<Figure size 432x288 with 1 Axes>"
      ]
     },
     "metadata": {
      "needs_background": "light"
     },
     "output_type": "display_data"
    }
   ],
   "source": [
    "plt.hist(np.random.choice([1,2,3,4],1000, p=[1/6, 1/3, 1/3, 1/6]))"
   ]
  },
  {
   "cell_type": "markdown",
   "id": "ffa1c920",
   "metadata": {},
   "source": [
    "**Order** of Z items"
   ]
  },
  {
   "cell_type": "code",
   "execution_count": 24,
   "id": "b7b5ac5f",
   "metadata": {},
   "outputs": [],
   "source": [
    "Z = 100"
   ]
  },
  {
   "cell_type": "code",
   "execution_count": 30,
   "id": "1aecdf48",
   "metadata": {},
   "outputs": [],
   "source": [
    "def Z(s,S):\n",
    "    if I<S:\n",
    "        return S-I\n",
    "    return 0"
   ]
  },
  {
   "cell_type": "markdown",
   "id": "d638fe9d",
   "metadata": {},
   "source": [
    "cost and delivery time"
   ]
  },
  {
   "cell_type": "code",
   "execution_count": 25,
   "id": "7a10df37",
   "metadata": {},
   "outputs": [
    {
     "data": {
      "text/plain": [
       "332"
      ]
     },
     "execution_count": 25,
     "metadata": {},
     "output_type": "execute_result"
    }
   ],
   "source": [
    "def cost_order(Z):\n",
    "    return 32 + 3*Z\n",
    "cost_order(Z)"
   ]
  },
  {
   "cell_type": "code",
   "execution_count": 29,
   "id": "1e2ddecd",
   "metadata": {},
   "outputs": [
    {
     "data": {
      "text/plain": [
       "(array([15., 11., 12.,  4.,  6.,  9.,  8., 14., 12.,  9.]),\n",
       " array([0.50841458, 0.55593814, 0.6034617 , 0.65098526, 0.69850882,\n",
       "        0.74603238, 0.79355594, 0.8410795 , 0.88860306, 0.93612662,\n",
       "        0.98365018]),\n",
       " <BarContainer object of 10 artists>)"
      ]
     },
     "execution_count": 29,
     "metadata": {},
     "output_type": "execute_result"
    },
    {
     "data": {
      "image/png": "[encoded data removed]",
      "text/plain": [
       "<Figure size 432x288 with 1 Axes>"
      ]
     },
     "metadata": {
      "needs_background": "light"
     },
     "output_type": "display_data"
    }
   ],
   "source": [
    "plt.hist([np.random.rand()/2+0.5 for i in range(100)])"
   ]
  },
  {
   "cell_type": "code",
   "execution_count": null,
   "id": "2c8e0539",
   "metadata": {},
   "outputs": [],
   "source": []
  }
 ],
 "metadata": {
  "kernelspec": {
   "display_name": "Python 3 (ipykernel)",
   "language": "python",
   "name": "python3"
  },
  "language_info": {
   "codemirror_mode": {
    "name": "ipython",
    "version": 3
   },
   "file_extension": ".py",
   "mimetype": "text/x-python",
   "name": "python",
   "nbconvert_exporter": "python",
   "pygments_lexer": "ipython3",
   "version": "3.9.7"
  }
 },
 "nbformat": 4,
 "nbformat_minor": 5
}
