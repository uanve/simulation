{
 "cells": [
  {
   "cell_type": "markdown",
   "metadata": {},
   "source": [
    "let's model a 2 server queue with \n",
    "- A - in series\n",
    "- B - in parallel"
   ]
  },
  {
   "cell_type": "markdown",
   "metadata": {},
   "source": [
    "### two in series"
   ]
  },
  {
   "cell_type": "code",
   "execution_count": 131,
   "metadata": {},
   "outputs": [],
   "source": [
    "import simpy\n",
    "import numpy as np\n",
    "import matplotlib.pyplot as plt"
   ]
  },
  {
   "cell_type": "code",
   "execution_count": 114,
   "metadata": {},
   "outputs": [],
   "source": [
    "waiting_times = []"
   ]
  },
  {
   "cell_type": "code",
   "execution_count": 156,
   "metadata": {},
   "outputs": [],
   "source": [
    "class QueueSeries():\n",
    "    def __init__(self, env):\n",
    "        self.S1 = []\n",
    "        self.S2 = []\n",
    "        self.s1 = simpy.Resource(env)\n",
    "        self.s2 = simpy.Resource(env)\n",
    "        self.env = env\n",
    "        \n",
    "#         self.start_arrivals = env.process(self.arrivals())\n",
    "        \n",
    "    def service(self):\n",
    "        arrival_time = self.env.now\n",
    "    #     print(\"arrival at {}\".format(env.now))\n",
    "\n",
    "        with self.s1.request() as req:\n",
    "            yield req\n",
    "            yield self.env.timeout(np.random.exponential(7))\n",
    "#             print(\"s1 from {} to {}\".format(env.now-10,env.now))\n",
    "        self.S1.append(env.now-arrival_time)\n",
    "\n",
    "        with self.s2.request() as req:\n",
    "            yield req\n",
    "            yield self.env.timeout(np.random.exponential(3))\n",
    "#             print(\"s2 from {} to {}\".format(env.now-10,env.now))\n",
    "\n",
    "        self.S2.append( env.now - arrival_time)\n",
    "        \n",
    "    def arrivals(self):\n",
    "        while True:\n",
    "            self.env.process(self.service())\n",
    "            yield self.env.timeout(np.random.exponential(10))      "
   ]
  },
  {
   "cell_type": "code",
   "execution_count": 157,
   "metadata": {},
   "outputs": [
    {
     "data": {
      "text/plain": [
       "(array([134., 390., 232., 119.,  52.,  39.,  23.,   7.,   1.,   3.]),\n",
       " array([ 2.65906047,  8.37562545, 14.09219043, 19.80875541, 25.52532039,\n",
       "        31.24188536, 36.95845034, 42.67501532, 48.3915803 , 54.10814528,\n",
       "        59.82471025]),\n",
       " <BarContainer object of 10 artists>)"
      ]
     },
     "execution_count": 157,
     "metadata": {},
     "output_type": "execute_result"
    },
    {
     "data": {
      "image/png": "[encoded data removed]",
      "text/plain": [
       "<Figure size 432x288 with 1 Axes>"
      ]
     },
     "metadata": {
      "needs_background": "light"
     },
     "output_type": "display_data"
    }
   ],
   "source": [
    "S1_ = []\n",
    "S2_ = []\n",
    "for i in range(1000):\n",
    "    env = simpy.Environment()\n",
    "    system = QueueSeries(env)\n",
    "    system.env.process(system.arrivals())\n",
    "    system.env.run(until=100)\n",
    "\n",
    "    S1_.append(np.mean(system.S1))\n",
    "    S2_.append(np.mean(system.S2))\n",
    "plt.hist(S1_,alpha=0.5)\n",
    "plt.hist(S2_,alpha=0.5)\n",
    "\n",
    "# fig, axs = plt.subplots(2)\n",
    "# fig.suptitle('Vertically stacked subplots')\n",
    "# axs[0].hist(S1_,bins=20)\n",
    "# axs[1].hist(S2_,bins=20)"
   ]
  },
  {
   "cell_type": "code",
   "execution_count": null,
   "metadata": {},
   "outputs": [],
   "source": []
  },
  {
   "cell_type": "code",
   "execution_count": null,
   "metadata": {},
   "outputs": [],
   "source": []
  },
  {
   "cell_type": "code",
   "execution_count": null,
   "metadata": {},
   "outputs": [],
   "source": []
  },
  {
   "cell_type": "code",
   "execution_count": 275,
   "metadata": {},
   "outputs": [
    {
     "data": {
      "text/plain": [
       "[1, 0]"
      ]
     },
     "execution_count": 275,
     "metadata": {},
     "output_type": "execute_result"
    }
   ],
   "source": [
    "a = [0,0]\n",
    "a[0]=1\n",
    "a"
   ]
  },
  {
   "cell_type": "markdown",
   "metadata": {},
   "source": [
    "### two in parallel"
   ]
  },
  {
   "cell_type": "code",
   "execution_count": 451,
   "metadata": {},
   "outputs": [],
   "source": [
    "class QueueParallel():\n",
    "    def __init__(self, env):\n",
    "        self.S1 = []\n",
    "        self.S2 = []\n",
    "        self.S = [simpy.Resource(env), simpy.Resource(env)]\n",
    "        self.env = env\n",
    "        self.available = [True,True]\n",
    "                \n",
    "    def service(self,i):\n",
    "        arrival_time = self.env.now\n",
    "#         print(\"{} has arrived at {}\".format(i,env.now))\n",
    "        \n",
    "        i = 0\n",
    "#         if np.random.rand()>0.5: i = 1\n",
    "        if len(self.S[0].queue)>len(self.S[1].queue):\n",
    "            i = 1\n",
    "        \n",
    "        \n",
    "        with self.S[i].request() as req:\n",
    "            yield req\n",
    "            \n",
    "            if i == 0: \n",
    "                self.S1.append( env.now - arrival_time)\n",
    "                yield self.env.timeout(np.random.exponential(1))\n",
    "                \n",
    "            else:\n",
    "                self.S2.append( env.now - arrival_time)\n",
    "                yield self.env.timeout(np.random.exponential(3))\n",
    "                \n",
    "\n",
    "    def arrivals(self):\n",
    "        i = 0\n",
    "        while True:\n",
    "            self.env.process(self.service(i))\n",
    "            yield self.env.timeout(np.random.exponential(2)) \n",
    "            i+=1\n",
    "#             print(len(self.s1.queue))\n",
    "#             yield self.env.timeout(np.random.exponential(10)) "
   ]
  },
  {
   "cell_type": "code",
   "execution_count": 453,
   "metadata": {},
   "outputs": [
    {
     "data": {
      "text/plain": [
       "(array([ 1.,  4.,  8.,  9., 19., 16.,  9.,  7.,  6.,  7.,  5.,  1.,  2.,\n",
       "         1.,  3.,  0.,  1.,  0.,  0.,  1.]),\n",
       " array([0.35256781, 0.4751556 , 0.59774338, 0.72033117, 0.84291895,\n",
       "        0.96550674, 1.08809452, 1.21068231, 1.3332701 , 1.45585788,\n",
       "        1.57844567, 1.70103345, 1.82362124, 1.94620903, 2.06879681,\n",
       "        2.1913846 , 2.31397238, 2.43656017, 2.55914796, 2.68173574,\n",
       "        2.80432353]),\n",
       " <BarContainer object of 20 artists>)"
      ]
     },
     "execution_count": 453,
     "metadata": {},
     "output_type": "execute_result"
    },
    {
     "data": {
      "image/png": "[encoded data removed]",
      "text/plain": [
       "<Figure size 432x288 with 2 Axes>"
      ]
     },
     "metadata": {
      "needs_background": "light"
     },
     "output_type": "display_data"
    }
   ],
   "source": [
    "S1_ = []\n",
    "S2_ = []\n",
    "for i in range(100):\n",
    "    env = simpy.Environment()\n",
    "    system = QueueParallel(env)\n",
    "    system.env.process(system.arrivals())\n",
    "    system.env.run(until=1000)\n",
    "\n",
    "    S1_.append(np.mean(system.S1))\n",
    "    S2_.append(np.mean(system.S2))\n",
    "# plt.hist(S1_,alpha=0.5)\n",
    "# plt.hist(S2_,alpha=0.5)\n",
    "\n",
    "fig, axs = plt.subplots(2)\n",
    "fig.suptitle('Vertically stacked subplots')\n",
    "axs[0].hist(S1_,bins=20)\n",
    "axs[1].hist(S2_,bins=20)"
   ]
  },
  {
   "cell_type": "code",
   "execution_count": 454,
   "metadata": {},
   "outputs": [
    {
     "name": "stdout",
     "output_type": "stream",
     "text": [
      "0.3814523126987845 1.143207952427661\n"
     ]
    }
   ],
   "source": [
    "print(np.mean(S1_), np.mean(S2_))"
   ]
  },
  {
   "cell_type": "code",
   "execution_count": null,
   "metadata": {},
   "outputs": [],
   "source": []
  },
  {
   "cell_type": "code",
   "execution_count": null,
   "metadata": {},
   "outputs": [],
   "source": []
  },
  {
   "cell_type": "code",
   "execution_count": null,
   "metadata": {},
   "outputs": [],
   "source": []
  },
  {
   "cell_type": "code",
   "execution_count": null,
   "metadata": {},
   "outputs": [],
   "source": []
  },
  {
   "cell_type": "code",
   "execution_count": null,
   "metadata": {},
   "outputs": [],
   "source": []
  }
 ],
 "metadata": {
  "kernelspec": {
   "display_name": "Python 3",
   "language": "python",
   "name": "python3"
  },
  "language_info": {
   "codemirror_mode": {
    "name": "ipython",
    "version": 3
   },
   "file_extension": ".py",
   "mimetype": "text/x-python",
   "name": "python",
   "nbconvert_exporter": "python",
   "pygments_lexer": "ipython3",
   "version": "3.8.5"
  }
 },
 "nbformat": 4,
 "nbformat_minor": 4
}
